{
 "cells": [
  {
   "cell_type": "code",
   "execution_count": 1,
   "metadata": {},
   "outputs": [],
   "source": [
    "import numpy as np\n",
    "import tritonclient.grpc as grpcclient\n",
    "\n",
    "from PIL import Image"
   ]
  },
  {
   "cell_type": "code",
   "execution_count": 2,
   "metadata": {},
   "outputs": [],
   "source": [
    "triton_client = grpcclient.InferenceServerClient(url=\"localhost:8001\", verbose=False)"
   ]
  },
  {
   "cell_type": "code",
   "execution_count": 3,
   "metadata": {},
   "outputs": [],
   "source": [
    "def test_infer(\n",
    "    model_name,\n",
    "    input0_data,\n",
    "):\n",
    "    inputs = []\n",
    "    outputs = []\n",
    "    inputs.append(grpcclient.InferInput(\"input\", [*input0_data.shape], \"FP16\"))\n",
    "\n",
    "    # Initialize the data\n",
    "    inputs[0].set_data_from_numpy(input0_data)\n",
    "\n",
    "    outputs.append(grpcclient.InferRequestedOutput(\"output\"))\n",
    "    query_params = {\"test_1\": \"1\", \"test_2\": \"2\"}\n",
    "    results = triton_client.infer(\n",
    "        model_name,\n",
    "        inputs,\n",
    "        outputs=outputs\n",
    "    )\n",
    "\n",
    "    return results"
   ]
  },
  {
   "cell_type": "code",
   "execution_count": 4,
   "metadata": {},
   "outputs": [],
   "source": [
    "images = np.array([\n",
    "    np.array(Image.open('../data/img0.jpg').convert('RGB')).transpose(2, 0, 1) / 255,\n",
    "    # np.array(Image.open('data/1.jpg').convert('RGB')).transpose(2, 0, 1) / 255\n",
    "])"
   ]
  },
  {
   "cell_type": "code",
   "execution_count": 5,
   "metadata": {},
   "outputs": [],
   "source": [
    "model_name = \"ganx2_tensorrt\""
   ]
  },
  {
   "cell_type": "code",
   "execution_count": 6,
   "metadata": {},
   "outputs": [],
   "source": [
    "input0_data = np.array(images).astype(np.float16)"
   ]
  },
  {
   "cell_type": "code",
   "execution_count": 7,
   "metadata": {},
   "outputs": [],
   "source": [
    "# Infer with requested Outputs\n",
    "results = test_infer(\n",
    "    model_name,\n",
    "    input0_data\n",
    ")"
   ]
  },
  {
   "cell_type": "code",
   "execution_count": 8,
   "metadata": {},
   "outputs": [],
   "source": [
    "# Validate the results by comparing with precomputed values.\n",
    "output0_data = results.as_numpy(\"output\")"
   ]
  },
  {
   "cell_type": "code",
   "execution_count": 9,
   "metadata": {},
   "outputs": [
    {
     "data": {
      "text/plain": [
       "(1, 3, 480, 640)"
      ]
     },
     "execution_count": 9,
     "metadata": {},
     "output_type": "execute_result"
    }
   ],
   "source": [
    "output0_data.shape"
   ]
  },
  {
   "cell_type": "code",
   "execution_count": 10,
   "metadata": {},
   "outputs": [
    {
     "data": {
      "text/plain": [
       "(480, 640, 3)"
      ]
     },
     "execution_count": 10,
     "metadata": {},
     "output_type": "execute_result"
    }
   ],
   "source": [
    "(output0_data[0] * 255).transpose(1, 2, 0).astype(np.uint8).shape"
   ]
  },
  {
   "cell_type": "code",
   "execution_count": 11,
   "metadata": {},
   "outputs": [
    {
     "data": {
      "text/plain": [
       "(480, 640, 3)"
      ]
     },
     "execution_count": 11,
     "metadata": {},
     "output_type": "execute_result"
    }
   ],
   "source": [
    "(output0_data[0] * 255).transpose(1, 2, 0).astype(np.uint8).shape"
   ]
  },
  {
   "cell_type": "code",
   "execution_count": 12,
   "metadata": {},
   "outputs": [],
   "source": [
    "from PIL import Image\n",
    "im = Image.fromarray((output0_data[0] * 255).astype(np.uint8).transpose(2, 1, 0))\n",
    "im.save(\"your_file1.jpeg\")"
   ]
  },
  {
   "cell_type": "code",
   "execution_count": 14,
   "metadata": {},
   "outputs": [
    {
     "data": {
      "text/plain": [
       "array([[[[ 89.9 ,  90.75,  86.3 , ..., 233.1 , 236.6 , 241.1 ],\n",
       "         [ 74.9 ,  72.5 ,  72.9 , ..., 232.5 , 236.2 , 233.5 ],\n",
       "         [ 52.03,  51.22,  54.4 , ..., 229.9 , 231.1 , 233.4 ],\n",
       "         ...,\n",
       "         [112.75, 111.5 , 111.94, ...,  22.17,  22.94,  21.7 ],\n",
       "         [107.44, 113.  , 109.44, ...,  22.5 ,  22.16,  20.89],\n",
       "         [114.1 , 112.25, 112.2 , ...,  22.83,  18.75,  21.1 ]],\n",
       "\n",
       "        [[ 90.9 ,  94.5 ,  90.4 , ..., 244.2 , 253.1 , 251.6 ],\n",
       "         [ 82.44,  78.  ,  77.44, ..., 242.8 , 244.1 , 245.  ],\n",
       "         [ 55.53,  56.94,  58.8 , ..., 242.1 , 242.1 , 245.  ],\n",
       "         ...,\n",
       "         [114.25, 112.  , 113.56, ...,  18.94,  19.5 ,  18.55],\n",
       "         [109.1 , 113.94, 110.9 , ...,  18.23,  18.52,  18.7 ],\n",
       "         [113.56, 113.5 , 114.44, ...,  17.83,  16.55,  16.64]],\n",
       "\n",
       "        [[103.7 , 105.75, 103.9 , ..., 261.  , 265.8 , 267.2 ],\n",
       "         [ 89.06,  88.8 ,  88.94, ..., 259.  , 261.8 , 257.8 ],\n",
       "         [ 65.9 ,  67.8 ,  69.56, ..., 257.  , 258.  , 261.8 ],\n",
       "         ...,\n",
       "         [124.4 , 123.7 , 123.94, ...,  20.47,  21.33,  20.  ],\n",
       "         [118.56, 125.8 , 120.9 , ...,  19.83,  20.53,  19.12],\n",
       "         [118.75, 121.2 , 123.4 , ...,  18.53,  19.11,  18.53]]]],\n",
       "      dtype=float16)"
      ]
     },
     "execution_count": 14,
     "metadata": {},
     "output_type": "execute_result"
    }
   ],
   "source": [
    "output0_data*255"
   ]
  }
 ],
 "metadata": {
  "kernelspec": {
   "display_name": "Python 3",
   "language": "python",
   "name": "python3"
  },
  "language_info": {
   "codemirror_mode": {
    "name": "ipython",
    "version": 3
   },
   "file_extension": ".py",
   "mimetype": "text/x-python",
   "name": "python",
   "nbconvert_exporter": "python",
   "pygments_lexer": "ipython3",
   "version": "3.10.12"
  },
  "orig_nbformat": 4
 },
 "nbformat": 4,
 "nbformat_minor": 2
}
